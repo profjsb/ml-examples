{
 "metadata": {
  "name": "MNIST_demo_cloud"
 },
 "nbformat": 3,
 "nbformat_minor": 0,
 "worksheets": [
  {
   "cells": [
    {
     "cell_type": "heading",
     "level": 3,
     "metadata": {},
     "source": [
      "Calling back to the wise.io platform: MNIST demo"
     ]
    },
    {
     "cell_type": "markdown",
     "metadata": {},
     "source": [
      "In this example, predicting which digit was written in a postage stamp, we've already build models on the wise.io machine intelligence platform. We'd like to predict on the testing data and see how well we do.\n",
      "\n",
      "(c) wise.io 2012-2013"
     ]
    },
    {
     "cell_type": "markdown",
     "metadata": {},
     "source": [
      "First, let's connect to the platform using our user credentials. You'll need to have the wise.io stack installed locally:\n",
      "\n",
      "  `pip install wise`\n",
      "\n",
      "see [http://docs.wise.io](http://docs.wise.io) for complete API documentation."
     ]
    },
    {
     "cell_type": "code",
     "collapsed": false,
     "input": [
      "import wise\n",
      "# Connect to the MNIST project\n",
      "mnist = wise.project(\"/wiseio/mnist\", user=\"wiseio\", address=\"http://beta.wise.io\",password=open(\"pw\",\"r\").read().strip())\n",
      "%pylab inline"
     ],
     "language": "python",
     "metadata": {},
     "outputs": [
      {
       "output_type": "stream",
       "stream": "stdout",
       "text": [
        "\n",
        "Welcome to pylab, a matplotlib-based Python environment [backend: module://IPython.zmq.pylab.backend_inline].\n",
        "For more information, type 'help(pylab)'.\n"
       ]
      }
     ],
     "prompt_number": 11
    },
    {
     "cell_type": "markdown",
     "metadata": {},
     "source": [
      "above, the project is \"wiseio/mnist\" and the password is taken from a file (\"pw\") on the local machine."
     ]
    },
    {
     "cell_type": "code",
     "collapsed": false,
     "input": [
      "# Grab a random sample from the testing data and predict the digit\n",
      "import random\n",
      "sample = mnist.select(\"test.csv\", rows=random.randint(0,20000))\n",
      "\n",
      "# Download and show the digit image\n",
      "im = sample.ix[0].values.reshape((28,28))\n",
      "figure(figsize=(2,2))\n",
      "imshow(im, interpolation=\"nearest\", cmap=\"gray\");"
     ],
     "language": "python",
     "metadata": {},
     "outputs": [
      {
       "output_type": "display_data",
       "png": "[encoded data removed]"
      }
     ],
     "prompt_number": 12
    },
    {
     "cell_type": "markdown",
     "metadata": {},
     "source": [
      "The 'model_100' model is trained on the 784 pixel values of the training set images."
     ]
    },
    {
     "cell_type": "code",
     "collapsed": false,
     "input": [
      "mnist.predict(\"model_100\", sample)"
     ],
     "language": "python",
     "metadata": {},
     "outputs": [
      {
       "html": [
        "<div style=\"max-height:1000px;max-width:1500px;overflow:auto;\">\n",
        "<table border=\"1\" class=\"dataframe\">\n",
        "  <thead>\n",
        "    <tr style=\"text-align: right;\">\n",
        "      <th></th>\n",
        "      <th>0</th>\n",
        "      <th>1</th>\n",
        "      <th>2</th>\n",
        "      <th>3</th>\n",
        "      <th>4</th>\n",
        "      <th>5</th>\n",
        "      <th>6</th>\n",
        "      <th>7</th>\n",
        "      <th>8</th>\n",
        "      <th>9</th>\n",
        "    </tr>\n",
        "  </thead>\n",
        "  <tbody>\n",
        "    <tr>\n",
        "      <th>0</th>\n",
        "      <td> 0</td>\n",
        "      <td> 0</td>\n",
        "      <td> 0</td>\n",
        "      <td> 0.95</td>\n",
        "      <td> 0</td>\n",
        "      <td> 0.03</td>\n",
        "      <td> 0</td>\n",
        "      <td> 0</td>\n",
        "      <td> 0.01</td>\n",
        "      <td> 0.01</td>\n",
        "    </tr>\n",
        "  </tbody>\n",
        "</table>\n",
        "</div>"
       ],
       "output_type": "pyout",
       "prompt_number": 13,
       "text": [
        "   0  1  2     3  4     5  6  7     8     9\n",
        "0  0  0  0  0.95  0  0.03  0  0  0.01  0.01"
       ]
      }
     ],
     "prompt_number": 13
    },
    {
     "cell_type": "code",
     "collapsed": false,
     "input": [
      "# Show variable importances from the model as an image\n",
      "model = mnist.model(\"model_100\")\n",
      "imp_im = array(model.importances).reshape((28,28))\n",
      "figure(figsize=(3,3))\n",
      "imshow(sqrt(imp_im), interpolation=\"nearest\", cmap=\"gray\")"
     ],
     "language": "python",
     "metadata": {},
     "outputs": [
      {
       "output_type": "pyout",
       "prompt_number": 14,
       "text": [
        "<matplotlib.image.AxesImage at 0x10b03f550>"
       ]
      },
      {
       "output_type": "display_data",
       "png": "[encoded data removed]"
      }
     ],
     "prompt_number": 14
    },
    {
     "cell_type": "markdown",
     "metadata": {},
     "source": [
      "The above confirms our intuition that pixels near the center of the image are more important for classification."
     ]
    }
   ],
   "metadata": {}
  }
 ]
}